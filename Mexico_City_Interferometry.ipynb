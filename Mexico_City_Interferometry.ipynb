{
  "nbformat": 4,
  "nbformat_minor": 0,
  "metadata": {
    "colab": {
      "provenance": [],
      "machine_shape": "hm",
      "gpuType": "T4",
      "authorship_tag": "ABX9TyOzVu/vZYyuwWKZaX+Ng32G",
      "include_colab_link": true
    },
    "kernelspec": {
      "name": "python3",
      "display_name": "Python 3"
    },
    "language_info": {
      "name": "python"
    },
    "accelerator": "GPU",
    "widgets": {
      "application/vnd.jupyter.widget-state+json": {
        "8864e5a162a44d6eb129b7ca810b9405": {
          "model_module": "@jupyter-widgets/controls",
          "model_name": "HBoxModel",
          "model_module_version": "1.5.0",
          "state": {
            "_dom_classes": [],
            "_model_module": "@jupyter-widgets/controls",
            "_model_module_version": "1.5.0",
            "_model_name": "HBoxModel",
            "_view_count": null,
            "_view_module": "@jupyter-widgets/controls",
            "_view_module_version": "1.5.0",
            "_view_name": "HBoxView",
            "box_style": "",
            "children": [
              "IPY_MODEL_61309e964c1643638877768080c33ce6",
              "IPY_MODEL_7bdd3350791d44beb0ea746eed3cc859",
              "IPY_MODEL_c4e56efa5d304ed596294e9dee1d5386"
            ],
            "layout": "IPY_MODEL_adc27230eecf40eb9c9aad3b20bef1b7"
          }
        },
        "61309e964c1643638877768080c33ce6": {
          "model_module": "@jupyter-widgets/controls",
          "model_name": "HTMLModel",
          "model_module_version": "1.5.0",
          "state": {
            "_dom_classes": [],
            "_model_module": "@jupyter-widgets/controls",
            "_model_module_version": "1.5.0",
            "_model_name": "HTMLModel",
            "_view_count": null,
            "_view_module": "@jupyter-widgets/controls",
            "_view_module_version": "1.5.0",
            "_view_name": "HTMLView",
            "description": "",
            "description_tooltip": null,
            "layout": "IPY_MODEL_12867b65945948d886636cdae1906d1e",
            "placeholder": "​",
            "style": "IPY_MODEL_1c625da1ca574152af0fcd3426fd2996",
            "value": "ASF Downloading Sentinel-1 SLC::  50%"
          }
        },
        "7bdd3350791d44beb0ea746eed3cc859": {
          "model_module": "@jupyter-widgets/controls",
          "model_name": "FloatProgressModel",
          "model_module_version": "1.5.0",
          "state": {
            "_dom_classes": [],
            "_model_module": "@jupyter-widgets/controls",
            "_model_module_version": "1.5.0",
            "_model_name": "FloatProgressModel",
            "_view_count": null,
            "_view_module": "@jupyter-widgets/controls",
            "_view_module_version": "1.5.0",
            "_view_name": "ProgressView",
            "bar_style": "danger",
            "description": "",
            "description_tooltip": null,
            "layout": "IPY_MODEL_03861275296049009d1c2e244b354559",
            "max": 16,
            "min": 0,
            "orientation": "horizontal",
            "style": "IPY_MODEL_7c8c87b38456400b842eabeb01820968",
            "value": 8
          }
        },
        "c4e56efa5d304ed596294e9dee1d5386": {
          "model_module": "@jupyter-widgets/controls",
          "model_name": "HTMLModel",
          "model_module_version": "1.5.0",
          "state": {
            "_dom_classes": [],
            "_model_module": "@jupyter-widgets/controls",
            "_model_module_version": "1.5.0",
            "_model_name": "HTMLModel",
            "_view_count": null,
            "_view_module": "@jupyter-widgets/controls",
            "_view_module_version": "1.5.0",
            "_view_name": "HTMLView",
            "description": "",
            "description_tooltip": null,
            "layout": "IPY_MODEL_a5d440dd96014b6dbce3deaa8b69e226",
            "placeholder": "​",
            "style": "IPY_MODEL_fe25c05a1cfa436095ef0f85bd83ce9c",
            "value": " 8/16 [00:47&lt;06:13, 46.70s/it]"
          }
        },
        "adc27230eecf40eb9c9aad3b20bef1b7": {
          "model_module": "@jupyter-widgets/base",
          "model_name": "LayoutModel",
          "model_module_version": "1.2.0",
          "state": {
            "_model_module": "@jupyter-widgets/base",
            "_model_module_version": "1.2.0",
            "_model_name": "LayoutModel",
            "_view_count": null,
            "_view_module": "@jupyter-widgets/base",
            "_view_module_version": "1.2.0",
            "_view_name": "LayoutView",
            "align_content": null,
            "align_items": null,
            "align_self": null,
            "border": null,
            "bottom": null,
            "display": null,
            "flex": null,
            "flex_flow": null,
            "grid_area": null,
            "grid_auto_columns": null,
            "grid_auto_flow": null,
            "grid_auto_rows": null,
            "grid_column": null,
            "grid_gap": null,
            "grid_row": null,
            "grid_template_areas": null,
            "grid_template_columns": null,
            "grid_template_rows": null,
            "height": null,
            "justify_content": null,
            "justify_items": null,
            "left": null,
            "margin": null,
            "max_height": null,
            "max_width": null,
            "min_height": null,
            "min_width": null,
            "object_fit": null,
            "object_position": null,
            "order": null,
            "overflow": null,
            "overflow_x": null,
            "overflow_y": null,
            "padding": null,
            "right": null,
            "top": null,
            "visibility": null,
            "width": null
          }
        },
        "12867b65945948d886636cdae1906d1e": {
          "model_module": "@jupyter-widgets/base",
          "model_name": "LayoutModel",
          "model_module_version": "1.2.0",
          "state": {
            "_model_module": "@jupyter-widgets/base",
            "_model_module_version": "1.2.0",
            "_model_name": "LayoutModel",
            "_view_count": null,
            "_view_module": "@jupyter-widgets/base",
            "_view_module_version": "1.2.0",
            "_view_name": "LayoutView",
            "align_content": null,
            "align_items": null,
            "align_self": null,
            "border": null,
            "bottom": null,
            "display": null,
            "flex": null,
            "flex_flow": null,
            "grid_area": null,
            "grid_auto_columns": null,
            "grid_auto_flow": null,
            "grid_auto_rows": null,
            "grid_column": null,
            "grid_gap": null,
            "grid_row": null,
            "grid_template_areas": null,
            "grid_template_columns": null,
            "grid_template_rows": null,
            "height": null,
            "justify_content": null,
            "justify_items": null,
            "left": null,
            "margin": null,
            "max_height": null,
            "max_width": null,
            "min_height": null,
            "min_width": null,
            "object_fit": null,
            "object_position": null,
            "order": null,
            "overflow": null,
            "overflow_x": null,
            "overflow_y": null,
            "padding": null,
            "right": null,
            "top": null,
            "visibility": null,
            "width": null
          }
        },
        "1c625da1ca574152af0fcd3426fd2996": {
          "model_module": "@jupyter-widgets/controls",
          "model_name": "DescriptionStyleModel",
          "model_module_version": "1.5.0",
          "state": {
            "_model_module": "@jupyter-widgets/controls",
            "_model_module_version": "1.5.0",
            "_model_name": "DescriptionStyleModel",
            "_view_count": null,
            "_view_module": "@jupyter-widgets/base",
            "_view_module_version": "1.2.0",
            "_view_name": "StyleView",
            "description_width": ""
          }
        },
        "03861275296049009d1c2e244b354559": {
          "model_module": "@jupyter-widgets/base",
          "model_name": "LayoutModel",
          "model_module_version": "1.2.0",
          "state": {
            "_model_module": "@jupyter-widgets/base",
            "_model_module_version": "1.2.0",
            "_model_name": "LayoutModel",
            "_view_count": null,
            "_view_module": "@jupyter-widgets/base",
            "_view_module_version": "1.2.0",
            "_view_name": "LayoutView",
            "align_content": null,
            "align_items": null,
            "align_self": null,
            "border": null,
            "bottom": null,
            "display": null,
            "flex": null,
            "flex_flow": null,
            "grid_area": null,
            "grid_auto_columns": null,
            "grid_auto_flow": null,
            "grid_auto_rows": null,
            "grid_column": null,
            "grid_gap": null,
            "grid_row": null,
            "grid_template_areas": null,
            "grid_template_columns": null,
            "grid_template_rows": null,
            "height": null,
            "justify_content": null,
            "justify_items": null,
            "left": null,
            "margin": null,
            "max_height": null,
            "max_width": null,
            "min_height": null,
            "min_width": null,
            "object_fit": null,
            "object_position": null,
            "order": null,
            "overflow": null,
            "overflow_x": null,
            "overflow_y": null,
            "padding": null,
            "right": null,
            "top": null,
            "visibility": null,
            "width": null
          }
        },
        "7c8c87b38456400b842eabeb01820968": {
          "model_module": "@jupyter-widgets/controls",
          "model_name": "ProgressStyleModel",
          "model_module_version": "1.5.0",
          "state": {
            "_model_module": "@jupyter-widgets/controls",
            "_model_module_version": "1.5.0",
            "_model_name": "ProgressStyleModel",
            "_view_count": null,
            "_view_module": "@jupyter-widgets/base",
            "_view_module_version": "1.2.0",
            "_view_name": "StyleView",
            "bar_color": null,
            "description_width": ""
          }
        },
        "a5d440dd96014b6dbce3deaa8b69e226": {
          "model_module": "@jupyter-widgets/base",
          "model_name": "LayoutModel",
          "model_module_version": "1.2.0",
          "state": {
            "_model_module": "@jupyter-widgets/base",
            "_model_module_version": "1.2.0",
            "_model_name": "LayoutModel",
            "_view_count": null,
            "_view_module": "@jupyter-widgets/base",
            "_view_module_version": "1.2.0",
            "_view_name": "LayoutView",
            "align_content": null,
            "align_items": null,
            "align_self": null,
            "border": null,
            "bottom": null,
            "display": null,
            "flex": null,
            "flex_flow": null,
            "grid_area": null,
            "grid_auto_columns": null,
            "grid_auto_flow": null,
            "grid_auto_rows": null,
            "grid_column": null,
            "grid_gap": null,
            "grid_row": null,
            "grid_template_areas": null,
            "grid_template_columns": null,
            "grid_template_rows": null,
            "height": null,
            "justify_content": null,
            "justify_items": null,
            "left": null,
            "margin": null,
            "max_height": null,
            "max_width": null,
            "min_height": null,
            "min_width": null,
            "object_fit": null,
            "object_position": null,
            "order": null,
            "overflow": null,
            "overflow_x": null,
            "overflow_y": null,
            "padding": null,
            "right": null,
            "top": null,
            "visibility": null,
            "width": null
          }
        },
        "fe25c05a1cfa436095ef0f85bd83ce9c": {
          "model_module": "@jupyter-widgets/controls",
          "model_name": "DescriptionStyleModel",
          "model_module_version": "1.5.0",
          "state": {
            "_model_module": "@jupyter-widgets/controls",
            "_model_module_version": "1.5.0",
            "_model_name": "DescriptionStyleModel",
            "_view_count": null,
            "_view_module": "@jupyter-widgets/base",
            "_view_module_version": "1.2.0",
            "_view_name": "StyleView",
            "description_width": ""
          }
        }
      }
    }
  },
  "cells": [
    {
      "cell_type": "markdown",
      "metadata": {
        "id": "view-in-github",
        "colab_type": "text"
      },
      "source": [
        "<a href=\"https://colab.research.google.com/github/xR3M/Mexico_City_InSAR_DL/blob/main/Mexico_City_Interferometry.ipynb\" target=\"_parent\"><img src=\"https://colab.research.google.com/assets/colab-badge.svg\" alt=\"Open In Colab\"/></a>"
      ]
    },
    {
      "cell_type": "code",
      "execution_count": 1,
      "metadata": {
        "id": "AB3UkARHWAw2"
      },
      "outputs": [],
      "source": [
        "import platform, sys, os"
      ]
    },
    {
      "cell_type": "code",
      "source": [],
      "metadata": {
        "id": "dNee0wHf6E0o"
      },
      "execution_count": null,
      "outputs": []
    },
    {
      "cell_type": "code",
      "execution_count": 2,
      "metadata": {
        "colab": {
          "base_uri": "https://localhost:8080/"
        },
        "id": "xM_RyiATWAw5",
        "outputId": "03519c72-055e-466a-8b34-bc233a348851"
      },
      "outputs": [
        {
          "output_type": "stream",
          "name": "stdout",
          "text": [
            "\n",
            "WARNING: apt does not have a stable CLI interface. Use with caution in scripts.\n",
            "\n",
            "\n",
            "WARNING: apt does not have a stable CLI interface. Use with caution in scripts.\n",
            "\n",
            "update-alternatives: using /usr/bin/gcc-9 to provide /usr/bin/gcc (gcc) in auto mode\n",
            "There is only one alternative in link group gcc (providing /usr/bin/gcc): /usr/bin/gcc-9\n",
            "Nothing to configure.\n",
            "gcc (Ubuntu 9.5.0-1ubuntu1~22.04) 9.5.0\n",
            "HEAD is now at e98ebc0 extending solid_tide to 2050 as leap seconds are abandoned hopefully\n",
            "/usr/local/GMTSAR/share/gmtsar\n",
            " \n",
            "Usage: make_slc_s1a_tops xml_file tiff_file output mode dr.grd da.grd\n"
          ]
        }
      ],
      "source": [
        "if 'google.colab' in sys.modules:\n",
        "    count = !ls /usr/local | grep GMTSAR | wc -l\n",
        "    if count == ['0']:\n",
        "        !export DEBIAN_FRONTEND=noninteractive\n",
        "        !apt-get update > /dev/null\n",
        "        !apt install -y csh autoconf gfortran \\\n",
        "            libtiff5-dev libhdf5-dev liblapack-dev libgmt-dev gmt-dcw gmt-gshhg gmt  > /dev/null\n",
        "        # GMTSAR codes are not so good to be compiled by modern GCC\n",
        "        !apt install gcc-9 > /dev/null\n",
        "        !update-alternatives --install /usr/bin/gcc gcc /usr/bin/gcc-9 10\n",
        "        !update-alternatives --config gcc\n",
        "        !gcc --version | head -n 1\n",
        "        !rm -fr /usr/local/GMTSAR\n",
        "        !git config --global advice.detachedHead false\n",
        "        !cd /usr/local && git clone -q --branch master https://github.com/gmtsar/gmtsar GMTSAR\n",
        "        # revert recent broken commit\n",
        "        !cd /usr/local/GMTSAR && git checkout e98ebc0f4164939a4780b1534bac186924d7c998 > /dev/null\n",
        "        !cd /usr/local/GMTSAR && autoconf > /dev/null\n",
        "        !cd /usr/local/GMTSAR && ./configure --with-orbits-dir=/tmp > /dev/null\n",
        "        !cd /usr/local/GMTSAR && make 1>/dev/null 2>/dev/null\n",
        "        !cd /usr/local/GMTSAR && make install >/dev/null\n",
        "        # fix for missed script, use bash instead of csh interpretator\n",
        "        # note: csh messes stdout and stderr in Docker environment, it's resolved in PyGMTSAR code\n",
        "        !echo '#!/bin/sh' > /usr/local/GMTSAR/bin/gmtsar_sharedir.csh\n",
        "        !echo echo /usr/local/GMTSAR/share/gmtsar >> /usr/local/GMTSAR/bin/gmtsar_sharedir.csh\n",
        "        !chmod a+x /usr/local/GMTSAR/bin/gmtsar_sharedir.csh\n",
        "        !/usr/local/GMTSAR/bin/gmtsar_sharedir.csh\n",
        "        # test one GMTSAR binary\n",
        "        !/usr/local/GMTSAR/bin/make_s1a_tops 2>&1 | head -n 2"
      ]
    },
    {
      "cell_type": "code",
      "execution_count": 3,
      "metadata": {
        "colab": {
          "base_uri": "https://localhost:8080/"
        },
        "id": "cdW4xPijc-az",
        "outputId": "5fe0ea29-62ce-4e27-a43f-6116d48c5423"
      },
      "outputs": [
        {
          "output_type": "stream",
          "name": "stdout",
          "text": [
            "\n",
            "WARNING: apt does not have a stable CLI interface. Use with caution in scripts.\n",
            "\n"
          ]
        }
      ],
      "source": [
        "import sys\n",
        "if 'google.colab' in sys.modules:\n",
        "    !apt install -y xvfb > /dev/null\n",
        "    !{sys.executable} -m pip install pyvista xvfbwrapper > /dev/null\n",
        "    import xvfbwrapper\n",
        "    display = xvfbwrapper.Xvfb(width=800, height=600)\n",
        "    display.start()"
      ]
    },
    {
      "cell_type": "code",
      "source": [
        "# use default GMTSAR installation path\n",
        "PATH = os.environ['PATH']\n",
        "if PATH.find('GMTSAR') == -1:\n",
        "    PATH = os.environ['PATH'] + ':/usr/local/GMTSAR/bin/'\n",
        "    %env PATH {PATH}"
      ],
      "metadata": {
        "id": "FZ6OzXuq6bjM"
      },
      "execution_count": null,
      "outputs": []
    },
    {
      "cell_type": "code",
      "source": [
        "!{sys.executable} --version"
      ],
      "metadata": {
        "colab": {
          "base_uri": "https://localhost:8080/"
        },
        "id": "_reOX3B86ijo",
        "outputId": "f6fdfa21-db16-40c1-c232-ab9f1b490ced"
      },
      "execution_count": 5,
      "outputs": [
        {
          "output_type": "stream",
          "name": "stdout",
          "text": [
            "Python 3.10.12\n"
          ]
        }
      ]
    },
    {
      "cell_type": "code",
      "source": [
        "if 'google.colab' in sys.modules:\n",
        "    #!{sys.executable} -m pip install -qU git+https://github.com/mobigroup/gmtsar.git@pygmtsar2#subdirectory=pygmtsar\n",
        "    !{sys.executable} -m pip install -q pygmtsar\n",
        "import pygmtsar\n",
        "pygmtsar.__version__"
      ],
      "metadata": {
        "colab": {
          "base_uri": "https://localhost:8080/",
          "height": 402
        },
        "id": "2Qv_nvDj6jbE",
        "outputId": "e273a37a-566f-46e1-9de3-3455027a7951"
      },
      "execution_count": 6,
      "outputs": [
        {
          "output_type": "stream",
          "name": "stdout",
          "text": [
            "\u001b[2K     \u001b[90m━━━━━━━━━━━━━━━━━━━━━━━━━━━━━━━━━━━━━━━━\u001b[0m \u001b[32m10.8/10.8 MB\u001b[0m \u001b[31m77.4 MB/s\u001b[0m eta \u001b[36m0:00:00\u001b[0m\n",
            "\u001b[2K     \u001b[90m━━━━━━━━━━━━━━━━━━━━━━━━━━━━━━━━━━━━━━━━\u001b[0m \u001b[32m1.2/1.2 MB\u001b[0m \u001b[31m78.8 MB/s\u001b[0m eta \u001b[36m0:00:00\u001b[0m\n",
            "\u001b[2K     \u001b[90m━━━━━━━━━━━━━━━━━━━━━━━━━━━━━━━━━━━━━━━━\u001b[0m \u001b[32m13.0/13.0 MB\u001b[0m \u001b[31m103.2 MB/s\u001b[0m eta \u001b[36m0:00:00\u001b[0m\n",
            "\u001b[2K     \u001b[90m━━━━━━━━━━━━━━━━━━━━━━━━━━━━━━━━━━━━━━━━\u001b[0m \u001b[32m1.0/1.0 MB\u001b[0m \u001b[31m75.6 MB/s\u001b[0m eta \u001b[36m0:00:00\u001b[0m\n",
            "\u001b[2K     \u001b[90m━━━━━━━━━━━━━━━━━━━━━━━━━━━━━━━━━━━━━━━━\u001b[0m \u001b[32m1.2/1.2 MB\u001b[0m \u001b[31m4.5 MB/s\u001b[0m eta \u001b[36m0:00:00\u001b[0m\n",
            "\u001b[2K     \u001b[90m━━━━━━━━━━━━━━━━━━━━━━━━━━━━━━━━━━━━━━━━\u001b[0m \u001b[32m59.5/59.5 kB\u001b[0m \u001b[31m9.3 MB/s\u001b[0m eta \u001b[36m0:00:00\u001b[0m\n",
            "\u001b[2K     \u001b[90m━━━━━━━━━━━━━━━━━━━━━━━━━━━━━━━━━━━━━━━━\u001b[0m \u001b[32m60.5/60.5 kB\u001b[0m \u001b[31m9.3 MB/s\u001b[0m eta \u001b[36m0:00:00\u001b[0m\n",
            "\u001b[2K     \u001b[90m━━━━━━━━━━━━━━━━━━━━━━━━━━━━━━━━━━━━━━━━\u001b[0m \u001b[32m93.2/93.2 kB\u001b[0m \u001b[31m14.7 MB/s\u001b[0m eta \u001b[36m0:00:00\u001b[0m\n",
            "\u001b[2K     \u001b[90m━━━━━━━━━━━━━━━━━━━━━━━━━━━━━━━━━━━━━━━━\u001b[0m \u001b[32m1.3/1.3 MB\u001b[0m \u001b[31m80.6 MB/s\u001b[0m eta \u001b[36m0:00:00\u001b[0m\n",
            "\u001b[2K     \u001b[90m━━━━━━━━━━━━━━━━━━━━━━━━━━━━━━━━━━━━━━━━\u001b[0m \u001b[32m295.0/295.0 kB\u001b[0m \u001b[31m37.9 MB/s\u001b[0m eta \u001b[36m0:00:00\u001b[0m\n",
            "\u001b[2K     \u001b[90m━━━━━━━━━━━━━━━━━━━━━━━━━━━━━━━━━━━━━━━━\u001b[0m \u001b[32m86.0/86.0 kB\u001b[0m \u001b[31m13.4 MB/s\u001b[0m eta \u001b[36m0:00:00\u001b[0m\n",
            "\u001b[?25h  Preparing metadata (setup.py) ... \u001b[?25l\u001b[?25hdone\n",
            "\u001b[2K     \u001b[90m━━━━━━━━━━━━━━━━━━━━━━━━━━━━━━━━━━━━━━━━\u001b[0m \u001b[32m1.3/1.3 MB\u001b[0m \u001b[31m82.2 MB/s\u001b[0m eta \u001b[36m0:00:00\u001b[0m\n",
            "\u001b[2K     \u001b[90m━━━━━━━━━━━━━━━━━━━━━━━━━━━━━━━━━━━━━━━━\u001b[0m \u001b[32m21.5/21.5 MB\u001b[0m \u001b[31m78.8 MB/s\u001b[0m eta \u001b[36m0:00:00\u001b[0m\n",
            "\u001b[2K     \u001b[90m━━━━━━━━━━━━━━━━━━━━━━━━━━━━━━━━━━━━━━━━\u001b[0m \u001b[32m205.5/205.5 kB\u001b[0m \u001b[31m30.8 MB/s\u001b[0m eta \u001b[36m0:00:00\u001b[0m\n",
            "\u001b[2K     \u001b[90m━━━━━━━━━━━━━━━━━━━━━━━━━━━━━━━━━━━━━━━━\u001b[0m \u001b[32m1.6/1.6 MB\u001b[0m \u001b[31m85.2 MB/s\u001b[0m eta \u001b[36m0:00:00\u001b[0m\n",
            "\u001b[?25h  Building wheel for pims (setup.py) ... \u001b[?25l\u001b[?25hdone\n",
            "\u001b[31mERROR: pip's dependency resolver does not currently take into account all the packages that are installed. This behaviour is the source of the following dependency conflicts.\n",
            "cudf-cu12 24.4.1 requires pandas<2.2.2dev0,>=2.0, but you have pandas 2.2.2 which is incompatible.\n",
            "google-colab 1.0.0 requires pandas==2.0.3, but you have pandas 2.2.2 which is incompatible.\u001b[0m\u001b[31m\n",
            "\u001b[0m"
          ]
        },
        {
          "output_type": "execute_result",
          "data": {
            "text/plain": [
              "'2024.6.3'"
            ],
            "application/vnd.google.colaboratory.intrinsic+json": {
              "type": "string"
            }
          },
          "metadata": {},
          "execution_count": 6
        }
      ]
    },
    {
      "cell_type": "code",
      "source": [
        "import xarray as xr\n",
        "import numpy as np\n",
        "import pandas as pd\n",
        "import geopandas as gpd\n",
        "import json\n",
        "from dask.distributed import Client\n",
        "import dask\n",
        "import warnings\n",
        "warnings.filterwarnings('ignore')\n",
        "# plotting modules\n",
        "import pyvista as pv\n",
        "# magic trick for white background\n",
        "pv.set_plot_theme(\"document\")\n",
        "import panel\n",
        "panel.extension('vtk')\n",
        "from contextlib import contextmanager\n",
        "import matplotlib.pyplot as plt\n",
        "@contextmanager\n",
        "def mpl_settings(settings):\n",
        "    original_settings = {k: plt.rcParams[k] for k in settings}\n",
        "    plt.rcParams.update(settings)\n",
        "    yield\n",
        "    plt.rcParams.update(original_settings)\n",
        "plt.rcParams['figure.figsize'] = [12, 4]\n",
        "plt.rcParams['figure.dpi'] = 150\n",
        "plt.rcParams['figure.titlesize'] = 24\n",
        "plt.rcParams['axes.titlesize'] = 14\n",
        "plt.rcParams['axes.labelsize'] = 12\n",
        "plt.rcParams['xtick.labelsize'] = 12\n",
        "plt.rcParams['ytick.labelsize'] = 12\n",
        "%matplotlib inline"
      ],
      "metadata": {
        "id": "Iahfy4J16kNV"
      },
      "execution_count": null,
      "outputs": []
    },
    {
      "cell_type": "code",
      "source": [
        "# define Pandas display settings\n",
        "pd.set_option('display.max_rows', None)\n",
        "pd.set_option('display.max_columns', None)\n",
        "pd.set_option('display.width', None)\n",
        "pd.set_option('display.max_colwidth', 100)"
      ],
      "metadata": {
        "id": "ZkTH-5Vn6oY2"
      },
      "execution_count": null,
      "outputs": []
    },
    {
      "cell_type": "code",
      "source": [],
      "metadata": {
        "id": "GwobQi2m6xZj"
      },
      "execution_count": null,
      "outputs": []
    },
    {
      "cell_type": "code",
      "execution_count": 34,
      "metadata": {
        "id": "9Ivrd0Zn5QyA",
        "outputId": "9f7ab558-76f1-4aa6-f577-c11fd2a63d22",
        "colab": {
          "base_uri": "https://localhost:8080/"
        }
      },
      "outputs": [
        {
          "output_type": "stream",
          "name": "stdout",
          "text": [
            "Scenes defined: 157\n"
          ]
        }
      ],
      "source": [
        "SCENES = \"\"\"\n",
        "S1A_IW_SLC__1SDV_20240421T004848_20240421T004915_053525_067F0A_A009\n",
        "S1A_IW_SLC__1SDV_20240409T004848_20240409T004915_053350_067822_B3C1\n",
        "S1A_IW_SLC__1SDV_20240328T004847_20240328T004914_053175_067152_C9AA\n",
        "S1A_IW_SLC__1SDV_20240316T004847_20240316T004914_053000_066A9D_7836\n",
        "S1A_IW_SLC__1SDV_20240304T004847_20240304T004914_052825_066491_C450\n",
        "S1A_IW_SLC__1SDV_20240221T004847_20240221T004914_052650_065EA1_F5CD\n",
        "S1A_IW_SLC__1SDV_20240209T004847_20240209T004914_052475_0658AE_9906\n",
        "S1A_IW_SLC__1SDV_20240128T004847_20240128T004914_052300_0652C5_08A5\n",
        "S1A_IW_SLC__1SDV_20240116T004847_20240116T004914_052125_064CE3_0CA5\n",
        "S1A_IW_SLC__1SDV_20240104T004848_20240104T004915_051950_0646E9_491C\n",
        "S1A_IW_SLC__1SDV_20231223T004849_20231223T004916_051775_0640EA_3264\n",
        "S1A_IW_SLC__1SDV_20231211T004850_20231211T004917_051600_063AD7_A98B\n",
        "S1A_IW_SLC__1SDV_20231129T004850_20231129T004917_051425_0634C5_65C0\n",
        "S1A_IW_SLC__1SDV_20231117T004851_20231117T004917_051250_062EBA_EFAE\n",
        "S1A_IW_SLC__1SDV_20231105T004851_20231105T004918_051075_0628AB_8A54\n",
        "S1A_IW_SLC__1SDV_20231024T004851_20231024T004918_050900_0622AE_289A\n",
        "S1A_IW_SLC__1SDV_20231012T004850_20231012T004917_050725_061CBD_AB0E\n",
        "S1A_IW_SLC__1SDV_20230930T004851_20230930T004918_050550_0616B6_8CC6\n",
        "S1A_IW_SLC__1SDV_20230918T004851_20230918T004918_050375_0610BA_BCA1\n",
        "S1A_IW_SLC__1SDV_20230906T004850_20230906T004917_050200_060ACB_D4DD\n",
        "S1A_IW_SLC__1SDV_20230825T004850_20230825T004917_050025_0604C7_0C53\n",
        "S1A_IW_SLC__1SDV_20230813T004849_20230813T004916_049850_05FED5_9DA6\n",
        "S1A_IW_SLC__1SDV_20230801T004848_20230801T004915_049675_05F92D_359D\n",
        "S1A_IW_SLC__1SDV_20230720T004844_20230720T004916_049500_05F3C5_F156\n",
        "S1A_IW_SLC__1SDV_20230708T004847_20230708T004914_049325_05EE6E_CDB3\n",
        "S1A_IW_SLC__1SDV_20230626T004846_20230626T004913_049150_05E906_F71B\n",
        "S1A_IW_SLC__1SDV_20230614T004845_20230614T004912_048975_05E3BC_2DAF\n",
        "S1A_IW_SLC__1SDV_20230602T004845_20230602T004912_048800_05DE62_1ABF\n",
        "S1A_IW_SLC__1SDV_20230521T004844_20230521T004911_048625_05D92B_BBE6\n",
        "S1A_IW_SLC__1SDV_20230509T004844_20230509T004911_048450_05D402_1A7E\n",
        "S1A_IW_SLC__1SDV_20230427T004843_20230427T004910_048275_05CE23_ED5F\n",
        "S1A_IW_SLC__1SDV_20230415T004843_20230415T004910_048100_05C844_2F06\n",
        "S1A_IW_SLC__1SDV_20230403T004842_20230403T004909_047925_05C255_801F\n",
        "S1A_IW_SLC__1SDV_20230322T004842_20230322T004909_047750_05BC7E_E426\n",
        "S1A_IW_SLC__1SDV_20230310T004842_20230310T004909_047575_05B68E_E04C\n",
        "S1A_IW_SLC__1SDV_20230226T004842_20230226T004909_047400_05B0A6_6949\n",
        "S1A_IW_SLC__1SDV_20230214T004842_20230214T004909_047225_05AAAA_B9C7\n",
        "S1A_IW_SLC__1SDV_20230202T004842_20230202T004909_047050_05A4CF_6AC3\n",
        "S1A_IW_SLC__1SDV_20230121T004842_20230121T004909_046875_059EF3_B488\n",
        "S1A_IW_SLC__1SDV_20230109T004843_20230109T004910_046700_05990A_6B71\n",
        "S1A_IW_SLC__1SDV_20221228T004844_20221228T004911_046525_05932B_C9F7\n",
        "S1A_IW_SLC__1SDV_20221216T004844_20221216T004911_046350_058D32_579C\n",
        "S1A_IW_SLC__1SDV_20221204T004845_20221204T004912_046175_05873C_F90B\n",
        "S1A_IW_SLC__1SDV_20221122T004846_20221122T004913_046000_058147_FCF5\n",
        "S1A_IW_SLC__1SDV_20221110T004845_20221110T004912_045825_057B63_CFAE\n",
        "S1A_IW_SLC__1SDV_20221029T004846_20221029T004913_045650_057573_553D\n",
        "S1A_IW_SLC__1SDV_20221005T004846_20221005T004913_045300_056A69_8BC2\n",
        "S1A_IW_SLC__1SDV_20220923T004845_20220923T004912_045125_056481_F3D4\n",
        "S1A_IW_SLC__1SDV_20220911T004846_20220911T004913_044950_055E9E_F4FA\n",
        "S1A_IW_SLC__1SDV_20220830T004845_20220830T004912_044775_0558C3_6300\n",
        "S1A_IW_SLC__1SDV_20220806T004844_20220806T004911_044425_054D2C_E8C1\n",
        "S1A_IW_SLC__1SDV_20220725T004843_20220725T004910_044250_05480B_8EDB\n",
        "S1A_IW_SLC__1SDV_20220713T004842_20220713T004909_044075_0542D5_60CE\n",
        "S1A_IW_SLC__1SDV_20220701T004842_20220701T004908_043900_053D9E_CC01\n",
        "S1A_IW_SLC__1SDV_20220619T004841_20220619T004908_043725_053861_F1AC\n",
        "S1A_IW_SLC__1SDV_20220607T004840_20220607T004907_043550_05332F_D82E\n",
        "S1A_IW_SLC__1SDV_20220526T004839_20220526T004906_043375_052DFE_E545\n",
        "S1A_IW_SLC__1SDV_20220514T004838_20220514T004905_043200_0528CA_D5E8\n",
        "S1A_IW_SLC__1SDV_20220502T004837_20220502T004904_043025_052320_303C\n",
        "S1A_IW_SLC__1SDV_20220420T004837_20220420T004904_042850_051D58_A2BC\n",
        "S1A_IW_SLC__1SDV_20220408T004836_20220408T004903_042675_051776_0479\n",
        "S1A_IW_SLC__1SDV_20220327T004836_20220327T004903_042500_051193_277B\n",
        "S1A_IW_SLC__1SDV_20220315T004836_20220315T004903_042325_050B9F_6CA0\n",
        "S1A_IW_SLC__1SDV_20220303T004836_20220303T004903_042150_0505B4_ED86\n",
        "S1A_IW_SLC__1SDV_20220219T004836_20220219T004903_041975_04FFB2_04C7\n",
        "S1A_IW_SLC__1SDV_20220207T004836_20220207T004903_041800_04F99F_C315\n",
        "S1A_IW_SLC__1SDV_20220126T004837_20220126T004904_041625_04F39C_CB3A\n",
        "S1A_IW_SLC__1SDV_20220114T004837_20220114T004904_041450_04EDA1_EEE9\n",
        "S1A_IW_SLC__1SDV_20220102T004838_20220102T004905_041275_04E7DD_21EC\n",
        "S1A_IW_SLC__1SDV_20211221T004838_20211221T004905_041100_04E1FF_7796\n",
        "S1A_IW_SLC__1SDV_20211209T004839_20211209T004906_040925_04DC27_0A12\n",
        "S1A_IW_SLC__1SDV_20211127T004839_20211127T004906_040750_04D60E_9C8D\n",
        "S1A_IW_SLC__1SDV_20211115T004840_20211115T004907_040575_04D00D_0CBA\n",
        "S1A_IW_SLC__1SDV_20211103T004840_20211103T004907_040400_04C9F0_4C08\n",
        "S1A_IW_SLC__1SDV_20211022T004840_20211022T004907_040225_04C3D9_765F\n",
        "S1A_IW_SLC__1SDV_20211010T004840_20211010T004907_040050_04BDBF_F498\n",
        "S1A_IW_SLC__1SDV_20210928T004840_20210928T004907_039875_04B7B7_EC4F\n",
        "S1A_IW_SLC__1SDV_20210916T004839_20210916T004906_039700_04B1B8_AF6C\n",
        "S1A_IW_SLC__1SDV_20210904T004839_20210904T004906_039525_04ABBF_0341\n",
        "S1A_IW_SLC__1SDV_20210823T004838_20210823T004905_039350_04A5B8_7F06\n",
        "S1A_IW_SLC__1SDV_20210730T004837_20210730T004904_039000_0499FE_DFFC\n",
        "S1A_IW_SLC__1SDV_20210718T004836_20210718T004903_038825_0494CB_4D8D\n",
        "S1A_IW_SLC__1SDV_20210706T004836_20210706T004903_038650_048F8D_4242\n",
        "S1A_IW_SLC__1SDV_20210624T004835_20210624T004902_038475_048A45_9F82\n",
        "S1A_IW_SLC__1SDV_20210612T004834_20210612T004901_038300_04850E_91FF\n",
        "S1A_IW_SLC__1SDV_20210531T004834_20210531T004900_038125_047FDE_FCE2\n",
        "S1A_IW_SLC__1SDV_20210519T004833_20210519T004900_037950_047A9D_E8F1\n",
        "S1A_IW_SLC__1SDV_20210507T004832_20210507T004859_037775_047555_75C5\n",
        "S1A_IW_SLC__1SDV_20210425T004832_20210425T004859_037600_046F51_41DC\n",
        "S1A_IW_SLC__1SDV_20210413T004831_20210413T004858_037425_046947_A97D\n",
        "S1A_IW_SLC__1SDV_20210401T004831_20210401T004858_037250_04633D_EE19\n",
        "S1A_IW_SLC__1SDV_20210320T004830_20210320T004857_037075_045D33_C4C3\n",
        "S1A_IW_SLC__1SDV_20210308T004830_20210308T004857_036900_045718_FB8A\n",
        "S1A_IW_SLC__1SDV_20210224T004830_20210224T004857_036725_0450FC_D128\n",
        "S1A_IW_SLC__1SDV_20210212T004831_20210212T004858_036550_044AE4_13B8\n",
        "S1A_IW_SLC__1SDV_20210131T004831_20210131T004858_036375_0444D2_D89D\n",
        "S1A_IW_SLC__1SDV_20210119T004831_20210119T004858_036200_043EBF_7BD0\n",
        "S1A_IW_SLC__1SDV_20210107T004832_20210107T004859_036025_043899_294E\n",
        "S1A_IW_SLC__1SDV_20210107T004832_20210107T004859_036025_043899_294E\n",
        "S1A_IW_SLC__1SDV_20201214T004833_20201214T004900_035675_042C79_5D66\n",
        "S1A_IW_SLC__1SDV_20201202T004833_20201202T004900_035500_042679_99E0\n",
        "S1A_IW_SLC__1SDV_20201120T004834_20201120T004901_035325_042066_F182\n",
        "S1A_IW_SLC__1SDV_20201108T004834_20201108T004901_035150_041A4C_59CC\n",
        "S1A_IW_SLC__1SDV_20201027T004834_20201027T004901_034975_041443_E6D8\n",
        "S1A_IW_SLC__1SDV_20201015T004834_20201015T004901_034800_040E3E_59DE\n",
        "S1A_IW_SLC__1SDV_20201003T004834_20201003T004901_034625_040826_ED7D\n",
        "S1A_IW_SLC__1SDV_20200921T004834_20200921T004901_034450_040203_D4A8\n",
        "S1A_IW_SLC__1SDV_20200909T004833_20200909T004900_034275_03FBC3_C92E\n",
        "S1A_IW_SLC__1SDV_20200828T004833_20200828T004900_034100_03F59C_B653\n",
        "S1A_IW_SLC__1SDV_20200816T004832_20200816T004859_033925_03EF73_E2E6\n",
        "S1A_IW_SLC__1SDV_20200804T004832_20200804T004859_033750_03E969_E401\n",
        "S1A_IW_SLC__1SDV_20200723T004831_20200723T004858_033575_03E415_88E2\n",
        "S1A_IW_SLC__1SDV_20200711T004830_20200711T004857_033400_03DEB2_509E\n",
        "S1A_IW_SLC__1SDV_20200629T004829_20200629T004856_033225_03D963_ECB1\n",
        "S1A_IW_SLC__1SDV_20200617T004829_20200617T004856_033050_03D413_5842\n",
        "S1A_IW_SLC__1SDV_20200605T004828_20200605T004855_032875_03CED0_754D\n",
        "S1A_IW_SLC__1SDV_20200524T004827_20200524T004854_032700_03C99E_E00D\n",
        "S1A_IW_SLC__1SDV_20200512T004827_20200512T004853_032525_03C451_B4F8\n",
        "S1A_IW_SLC__1SDV_20200430T004826_20200430T004853_032350_03BE8B_3BE0\n",
        "S1A_IW_SLC__1SDV_20200418T004825_20200418T004852_032175_03B867_F1A4\n",
        "S1A_IW_SLC__1SDV_20200406T004825_20200406T004852_032000_03B23A_0951\n",
        "S1A_IW_SLC__1SDV_20200325T004825_20200325T004852_031825_03AC19_0EB6\n",
        "S1A_IW_SLC__1SDV_20200313T004825_20200313T004851_031650_03A5E6_DB33\n",
        "S1A_IW_SLC__1SDV_20200301T004824_20200301T004851_031475_039FD3_57E2\n",
        "S1A_IW_SLC__1SDV_20200218T004825_20200218T004851_031300_0399D4_AA53\n",
        "S1A_IW_SLC__1SDV_20200125T004825_20200125T004852_030950_038DA9_947E\n",
        "S1A_IW_SLC__1SDV_20200113T004825_20200113T004852_030775_03877F_1609\n",
        "S1A_IW_SLC__1SDV_20200101T004826_20200101T004853_030600_03816B_2704\n",
        "S1A_IW_SLC__1SDV_20191220T004827_20191220T004853_030425_037B60_6983\n",
        "S1A_IW_SLC__1SDV_20191208T004827_20191208T004854_030250_037551_DA00\n",
        "S1A_IW_SLC__1SDV_20191126T004827_20191126T004854_030075_036F51_D2B6\n",
        "S1A_IW_SLC__1SDV_20191114T004828_20191114T004855_029900_036940_090D\n",
        "S1A_IW_SLC__1SDV_20191102T004828_20191102T004855_029725_03631A_48BE\n",
        "S1A_IW_SLC__1SDV_20191021T004828_20191021T004855_029550_035D07_57D8\n",
        "S1A_IW_SLC__1SDV_20191009T004828_20191009T004855_029375_0356FE_CF44\n",
        "S1A_IW_SLC__1SDV_20190927T004828_20190927T004855_029200_0350EE_DF9A\n",
        "S1A_IW_SLC__1SDV_20190915T004827_20190915T004854_029025_034AFD_E759\n",
        "S1A_IW_SLC__1SDV_20190903T004827_20190903T004854_028850_0344E8_CCAE\n",
        "S1A_IW_SLC__1SDV_20190822T004826_20190822T004853_028675_033ED2_0E8A\n",
        "S1A_IW_SLC__1SDV_20190810T004826_20190810T004852_028500_0338BB_11CA\n",
        "S1A_IW_SLC__1SDV_20190729T004825_20190729T004852_028325_03334B_4F79\n",
        "S1A_IW_SLC__1SDV_20190717T004824_20190717T004851_028150_032DF4_5B17\n",
        "S1A_IW_SLC__1SDV_20190705T004823_20190705T004850_027975_0328A5_6D67\n",
        "S1A_IW_SLC__1SDV_20190623T004822_20190623T004849_027800_03235E_B5B7\n",
        "S1A_IW_SLC__1SDV_20190611T004821_20190611T004848_027625_031E21_3650\n",
        "S1A_IW_SLC__1SDV_20190530T004821_20190530T004848_027450_0318C7_6BD5\n",
        "S1A_IW_SLC__1SDV_20190518T004820_20190518T004847_027275_031350_2ACD\n",
        "S1A_IW_SLC__1SDV_20190506T004820_20190506T004847_027100_030DD1_C80E\n",
        "S1A_IW_SLC__1SDV_20190424T004819_20190424T004846_026925_03076D_A658\n",
        "S1A_IW_SLC__1SDV_20190412T004819_20190412T004846_026750_030118_FE00\n",
        "S1A_IW_SLC__1SDV_20190331T004819_20190331T004846_026575_02FAB1_A40E\n",
        "S1A_IW_SLC__1SDV_20190319T004818_20190319T004845_026400_02F442_8D82\n",
        "S1A_IW_SLC__1SDV_20190307T004818_20190307T004845_026225_02EDC8_BD19\n",
        "S1A_IW_SLC__1SDV_20190223T004818_20190223T004845_026050_02E789_58A5\n",
        "S1A_IW_SLC__1SDV_20190211T004818_20190211T004845_025875_02E153_DA11\n",
        "S1A_IW_SLC__1SDV_20190118T004819_20190118T004846_025525_02D49F_B940\n",
        "S1A_IW_SLC__1SDV_20190106T004819_20190106T004846_025350_02CE4F_4D57\n",
        "\"\"\"\n",
        "SCENES = list(filter(None, SCENES.split('\\n')))\n",
        "print (f'Scenes defined: {len(SCENES)}')\n",
        "\n",
        "ORBIT     = 'A'\n",
        "SUBSWATH  = 3\n",
        "REFERENCE = '2022-01-02'"
      ]
    },
    {
      "cell_type": "code",
      "source": [
        "from pygmtsar import S1, Stack, tqdm_dask, ASF, Tiles, XYZTiles"
      ],
      "metadata": {
        "id": "QmNsA3Nx9jjl"
      },
      "execution_count": 17,
      "outputs": []
    },
    {
      "cell_type": "code",
      "source": [
        "WORKDIR = 'raw_mex'\n",
        "DATADIR = 'data_mex'\n",
        "# define DEM filename outside data directory\n",
        "DEM = 'dem.nc'"
      ],
      "metadata": {
        "id": "N6VCiH_b68Am"
      },
      "execution_count": 18,
      "outputs": []
    },
    {
      "cell_type": "code",
      "execution_count": 19,
      "metadata": {
        "colab": {
          "base_uri": "https://localhost:8080/"
        },
        "id": "OpqRDA8cbEZ5",
        "outputId": "34b86488-be70-47b2-e6a7-5fbffc1c45af"
      },
      "outputs": [
        {
          "output_type": "stream",
          "name": "stdout",
          "text": [
            "                                                                                              geometry\n",
            "0  POLYGON ((-99.00902 19.29408, -99.25612 19.29408, -99.25612 19.52010, -99.00902 19.52010, -99.00...\n"
          ]
        }
      ],
      "source": [
        "# Define the GeoJSON string for the Polygon\n",
        "geojson_polygon = '''\n",
        "{\n",
        "  \"type\": \"Feature\",\n",
        "  \"properties\": {},\n",
        "  \"geometry\": {\n",
        "    \"type\": \"Polygon\",\n",
        "    \"coordinates\": [\n",
        "      [\n",
        "        [-99.009015, 19.294078],\n",
        "        [-99.256117, 19.294078],\n",
        "        [-99.256117, 19.520101],\n",
        "        [-99.009015, 19.520101],\n",
        "        [-99.009015, 19.294078]\n",
        "      ]\n",
        "    ]\n",
        "  }\n",
        "}\n",
        "'''\n",
        "\n",
        "# Convert the GeoJSON string to a GeoDataFrame\n",
        "AOI = gpd.GeoDataFrame.from_features([json.loads(geojson_polygon)])\n",
        "\n",
        "# Print the GeoDataFrame to verify\n",
        "print(AOI)"
      ]
    },
    {
      "cell_type": "code",
      "source": [
        "# define the buffer to cover only one burst\n",
        "BUFFER = 0.035\n",
        "AOI['geometry'] = AOI.buffer(BUFFER)"
      ],
      "metadata": {
        "id": "GzVIGwFi7Vh7"
      },
      "execution_count": 20,
      "outputs": []
    },
    {
      "cell_type": "code",
      "source": [
        "# Define the GeoJSON string for the point in Mexico City\n",
        "geojson_mexico_city = '''\n",
        "{\n",
        "  \"type\": \"Feature\",\n",
        "  \"geometry\": {\n",
        "    \"type\": \"Point\",\n",
        "    \"coordinates\": [-99.13356332073042, 19.43393365718681]\n",
        "  },\n",
        "  \"properties\": {}\n",
        "}\n",
        "'''\n",
        "\n",
        "# Convert the GeoJSON string to a GeoDataFrame\n",
        "POI= gpd.GeoDataFrame.from_features([json.loads(geojson_mexico_city)])\n",
        "\n",
        "# Print the GeoDataFrame to verify\n",
        "print(POI)"
      ],
      "metadata": {
        "colab": {
          "base_uri": "https://localhost:8080/"
        },
        "id": "VT5FbFTJ7WH8",
        "outputId": "5337a8d7-bacd-433c-e0cd-446df746c68f"
      },
      "execution_count": 21,
      "outputs": [
        {
          "output_type": "stream",
          "name": "stdout",
          "text": [
            "                     geometry\n",
            "0  POINT (-99.13356 19.43393)\n"
          ]
        }
      ]
    },
    {
      "cell_type": "code",
      "source": [
        "# Set these variables to None and you will be prompted to enter your username and password below.\n",
        "asf_username = 'GoogleColab2023'\n",
        "asf_password = 'GoogleColab_2023'"
      ],
      "metadata": {
        "id": "wwX6qggX7aTa"
      },
      "execution_count": 22,
      "outputs": []
    },
    {
      "cell_type": "code",
      "source": [
        "# Set these variables to None and you will be prompted to enter your username and password below.\n",
        "asf = ASF(asf_username, asf_password)\n",
        "# Optimized scene downloading from ASF - only the required subswaths and polarizations.\n",
        "print(asf.download_scenes(DATADIR, SCENES, SUBSWATH))"
      ],
      "metadata": {
        "colab": {
          "base_uri": "https://localhost:8080/",
          "height": 718,
          "referenced_widgets": [
            "8864e5a162a44d6eb129b7ca810b9405",
            "61309e964c1643638877768080c33ce6",
            "7bdd3350791d44beb0ea746eed3cc859",
            "c4e56efa5d304ed596294e9dee1d5386",
            "adc27230eecf40eb9c9aad3b20bef1b7",
            "12867b65945948d886636cdae1906d1e",
            "1c625da1ca574152af0fcd3426fd2996",
            "03861275296049009d1c2e244b354559",
            "7c8c87b38456400b842eabeb01820968",
            "a5d440dd96014b6dbce3deaa8b69e226",
            "fe25c05a1cfa436095ef0f85bd83ce9c"
          ]
        },
        "id": "B56GWcPy7a3U",
        "outputId": "83337300-dbd1-4999-95ee-72b6e11a65c6"
      },
      "execution_count": 36,
      "outputs": [
        {
          "output_type": "display_data",
          "data": {
            "text/plain": [
              "ASF Downloading Sentinel-1 SLC::   0%|          | 0/16 [00:00<?, ?it/s]"
            ],
            "application/vnd.jupyter.widget-view+json": {
              "version_major": 2,
              "version_minor": 0,
              "model_id": "8864e5a162a44d6eb129b7ca810b9405"
            }
          },
          "metadata": {}
        },
        {
          "output_type": "error",
          "ename": "OSError",
          "evalue": "[Errno 28] No space left on device",
          "traceback": [
            "\u001b[0;31m---------------------------------------------------------------------------\u001b[0m",
            "\u001b[0;31m_RemoteTraceback\u001b[0m                          Traceback (most recent call last)",
            "\u001b[0;31m_RemoteTraceback\u001b[0m: \n\"\"\"\nTraceback (most recent call last):\n  File \"/usr/local/lib/python3.10/dist-packages/joblib/externals/loky/process_executor.py\", line 463, in _process_worker\n    r = call_item()\n  File \"/usr/local/lib/python3.10/dist-packages/joblib/externals/loky/process_executor.py\", line 291, in __call__\n    return self.fn(*self.args, **self.kwargs)\n  File \"/usr/local/lib/python3.10/dist-packages/joblib/parallel.py\", line 598, in __call__\n    return [func(*args, **kwargs)\n  File \"/usr/local/lib/python3.10/dist-packages/joblib/parallel.py\", line 598, in <listcomp>\n    return [func(*args, **kwargs)\n  File \"/usr/local/lib/python3.10/dist-packages/pygmtsar/ASF.py\", line 147, in download_scene\n    file.write(remotezip.read(filename))\nOSError: [Errno 28] No space left on device\n\"\"\"",
            "\nThe above exception was the direct cause of the following exception:\n",
            "\u001b[0;31mOSError\u001b[0m                                   Traceback (most recent call last)",
            "\u001b[0;32m<ipython-input-36-c5e32b0ca12b>\u001b[0m in \u001b[0;36m<cell line: 4>\u001b[0;34m()\u001b[0m\n\u001b[1;32m      2\u001b[0m \u001b[0masf\u001b[0m \u001b[0;34m=\u001b[0m \u001b[0mASF\u001b[0m\u001b[0;34m(\u001b[0m\u001b[0masf_username\u001b[0m\u001b[0;34m,\u001b[0m \u001b[0masf_password\u001b[0m\u001b[0;34m)\u001b[0m\u001b[0;34m\u001b[0m\u001b[0;34m\u001b[0m\u001b[0m\n\u001b[1;32m      3\u001b[0m \u001b[0;31m# Optimized scene downloading from ASF - only the required subswaths and polarizations.\u001b[0m\u001b[0;34m\u001b[0m\u001b[0;34m\u001b[0m\u001b[0m\n\u001b[0;32m----> 4\u001b[0;31m \u001b[0mprint\u001b[0m\u001b[0;34m(\u001b[0m\u001b[0masf\u001b[0m\u001b[0;34m.\u001b[0m\u001b[0mdownload_scenes\u001b[0m\u001b[0;34m(\u001b[0m\u001b[0mDATADIR\u001b[0m\u001b[0;34m,\u001b[0m \u001b[0mSCENES\u001b[0m\u001b[0;34m,\u001b[0m \u001b[0mSUBSWATH\u001b[0m\u001b[0;34m)\u001b[0m\u001b[0;34m)\u001b[0m\u001b[0;34m\u001b[0m\u001b[0;34m\u001b[0m\u001b[0m\n\u001b[0m",
            "\u001b[0;32m/usr/local/lib/python3.10/dist-packages/pygmtsar/ASF.py\u001b[0m in \u001b[0;36mdownload_scenes\u001b[0;34m(self, basedir, scenes, subswaths, polarization, session, n_jobs, skip_exist)\u001b[0m\n\u001b[1;32m    163\u001b[0m         \u001b[0;31m# download scenes\u001b[0m\u001b[0;34m\u001b[0m\u001b[0;34m\u001b[0m\u001b[0m\n\u001b[1;32m    164\u001b[0m         \u001b[0;32mwith\u001b[0m \u001b[0mself\u001b[0m\u001b[0;34m.\u001b[0m\u001b[0mtqdm_joblib\u001b[0m\u001b[0;34m(\u001b[0m\u001b[0mtqdm\u001b[0m\u001b[0;34m(\u001b[0m\u001b[0mdesc\u001b[0m\u001b[0;34m=\u001b[0m\u001b[0;34m'ASF Downloading Sentinel-1 SLC:'\u001b[0m\u001b[0;34m,\u001b[0m \u001b[0mtotal\u001b[0m\u001b[0;34m=\u001b[0m\u001b[0mlen\u001b[0m\u001b[0;34m(\u001b[0m\u001b[0mscenes_missed\u001b[0m\u001b[0;34m)\u001b[0m\u001b[0;34m)\u001b[0m\u001b[0;34m)\u001b[0m \u001b[0;32mas\u001b[0m \u001b[0mprogress_bar\u001b[0m\u001b[0;34m:\u001b[0m\u001b[0;34m\u001b[0m\u001b[0;34m\u001b[0m\u001b[0m\n\u001b[0;32m--> 165\u001b[0;31m             joblib.Parallel(n_jobs=n_jobs)(joblib.delayed(download_scene)\\\n\u001b[0m\u001b[1;32m    166\u001b[0m                                     (scene, subswaths, polarization, basedir, session) for scene in scenes_missed)\n\u001b[1;32m    167\u001b[0m \u001b[0;34m\u001b[0m\u001b[0m\n",
            "\u001b[0;32m/usr/local/lib/python3.10/dist-packages/joblib/parallel.py\u001b[0m in \u001b[0;36m__call__\u001b[0;34m(self, iterable)\u001b[0m\n\u001b[1;32m   2005\u001b[0m         \u001b[0mnext\u001b[0m\u001b[0;34m(\u001b[0m\u001b[0moutput\u001b[0m\u001b[0;34m)\u001b[0m\u001b[0;34m\u001b[0m\u001b[0;34m\u001b[0m\u001b[0m\n\u001b[1;32m   2006\u001b[0m \u001b[0;34m\u001b[0m\u001b[0m\n\u001b[0;32m-> 2007\u001b[0;31m         \u001b[0;32mreturn\u001b[0m \u001b[0moutput\u001b[0m \u001b[0;32mif\u001b[0m \u001b[0mself\u001b[0m\u001b[0;34m.\u001b[0m\u001b[0mreturn_generator\u001b[0m \u001b[0;32melse\u001b[0m \u001b[0mlist\u001b[0m\u001b[0;34m(\u001b[0m\u001b[0moutput\u001b[0m\u001b[0;34m)\u001b[0m\u001b[0;34m\u001b[0m\u001b[0;34m\u001b[0m\u001b[0m\n\u001b[0m\u001b[1;32m   2008\u001b[0m \u001b[0;34m\u001b[0m\u001b[0m\n\u001b[1;32m   2009\u001b[0m     \u001b[0;32mdef\u001b[0m \u001b[0m__repr__\u001b[0m\u001b[0;34m(\u001b[0m\u001b[0mself\u001b[0m\u001b[0;34m)\u001b[0m\u001b[0;34m:\u001b[0m\u001b[0;34m\u001b[0m\u001b[0;34m\u001b[0m\u001b[0m\n",
            "\u001b[0;32m/usr/local/lib/python3.10/dist-packages/joblib/parallel.py\u001b[0m in \u001b[0;36m_get_outputs\u001b[0;34m(self, iterator, pre_dispatch)\u001b[0m\n\u001b[1;32m   1648\u001b[0m \u001b[0;34m\u001b[0m\u001b[0m\n\u001b[1;32m   1649\u001b[0m             \u001b[0;32mwith\u001b[0m \u001b[0mself\u001b[0m\u001b[0;34m.\u001b[0m\u001b[0m_backend\u001b[0m\u001b[0;34m.\u001b[0m\u001b[0mretrieval_context\u001b[0m\u001b[0;34m(\u001b[0m\u001b[0;34m)\u001b[0m\u001b[0;34m:\u001b[0m\u001b[0;34m\u001b[0m\u001b[0;34m\u001b[0m\u001b[0m\n\u001b[0;32m-> 1650\u001b[0;31m                 \u001b[0;32myield\u001b[0m \u001b[0;32mfrom\u001b[0m \u001b[0mself\u001b[0m\u001b[0;34m.\u001b[0m\u001b[0m_retrieve\u001b[0m\u001b[0;34m(\u001b[0m\u001b[0;34m)\u001b[0m\u001b[0;34m\u001b[0m\u001b[0;34m\u001b[0m\u001b[0m\n\u001b[0m\u001b[1;32m   1651\u001b[0m \u001b[0;34m\u001b[0m\u001b[0m\n\u001b[1;32m   1652\u001b[0m         \u001b[0;32mexcept\u001b[0m \u001b[0mGeneratorExit\u001b[0m\u001b[0;34m:\u001b[0m\u001b[0;34m\u001b[0m\u001b[0;34m\u001b[0m\u001b[0m\n",
            "\u001b[0;32m/usr/local/lib/python3.10/dist-packages/joblib/parallel.py\u001b[0m in \u001b[0;36m_retrieve\u001b[0;34m(self)\u001b[0m\n\u001b[1;32m   1752\u001b[0m             \u001b[0;31m# worker traceback.\u001b[0m\u001b[0;34m\u001b[0m\u001b[0;34m\u001b[0m\u001b[0m\n\u001b[1;32m   1753\u001b[0m             \u001b[0;32mif\u001b[0m \u001b[0mself\u001b[0m\u001b[0;34m.\u001b[0m\u001b[0m_aborting\u001b[0m\u001b[0;34m:\u001b[0m\u001b[0;34m\u001b[0m\u001b[0;34m\u001b[0m\u001b[0m\n\u001b[0;32m-> 1754\u001b[0;31m                 \u001b[0mself\u001b[0m\u001b[0;34m.\u001b[0m\u001b[0m_raise_error_fast\u001b[0m\u001b[0;34m(\u001b[0m\u001b[0;34m)\u001b[0m\u001b[0;34m\u001b[0m\u001b[0;34m\u001b[0m\u001b[0m\n\u001b[0m\u001b[1;32m   1755\u001b[0m                 \u001b[0;32mbreak\u001b[0m\u001b[0;34m\u001b[0m\u001b[0;34m\u001b[0m\u001b[0m\n\u001b[1;32m   1756\u001b[0m \u001b[0;34m\u001b[0m\u001b[0m\n",
            "\u001b[0;32m/usr/local/lib/python3.10/dist-packages/joblib/parallel.py\u001b[0m in \u001b[0;36m_raise_error_fast\u001b[0;34m(self)\u001b[0m\n\u001b[1;32m   1787\u001b[0m         \u001b[0;31m# called directly or if the generator is gc'ed.\u001b[0m\u001b[0;34m\u001b[0m\u001b[0;34m\u001b[0m\u001b[0m\n\u001b[1;32m   1788\u001b[0m         \u001b[0;32mif\u001b[0m \u001b[0merror_job\u001b[0m \u001b[0;32mis\u001b[0m \u001b[0;32mnot\u001b[0m \u001b[0;32mNone\u001b[0m\u001b[0;34m:\u001b[0m\u001b[0;34m\u001b[0m\u001b[0;34m\u001b[0m\u001b[0m\n\u001b[0;32m-> 1789\u001b[0;31m             \u001b[0merror_job\u001b[0m\u001b[0;34m.\u001b[0m\u001b[0mget_result\u001b[0m\u001b[0;34m(\u001b[0m\u001b[0mself\u001b[0m\u001b[0;34m.\u001b[0m\u001b[0mtimeout\u001b[0m\u001b[0;34m)\u001b[0m\u001b[0;34m\u001b[0m\u001b[0;34m\u001b[0m\u001b[0m\n\u001b[0m\u001b[1;32m   1790\u001b[0m \u001b[0;34m\u001b[0m\u001b[0m\n\u001b[1;32m   1791\u001b[0m     \u001b[0;32mdef\u001b[0m \u001b[0m_warn_exit_early\u001b[0m\u001b[0;34m(\u001b[0m\u001b[0mself\u001b[0m\u001b[0;34m)\u001b[0m\u001b[0;34m:\u001b[0m\u001b[0;34m\u001b[0m\u001b[0;34m\u001b[0m\u001b[0m\n",
            "\u001b[0;32m/usr/local/lib/python3.10/dist-packages/joblib/parallel.py\u001b[0m in \u001b[0;36mget_result\u001b[0;34m(self, timeout)\u001b[0m\n\u001b[1;32m    743\u001b[0m             \u001b[0;31m# callback thread, and is stored internally. It's just waiting to\u001b[0m\u001b[0;34m\u001b[0m\u001b[0;34m\u001b[0m\u001b[0m\n\u001b[1;32m    744\u001b[0m             \u001b[0;31m# be returned.\u001b[0m\u001b[0;34m\u001b[0m\u001b[0;34m\u001b[0m\u001b[0m\n\u001b[0;32m--> 745\u001b[0;31m             \u001b[0;32mreturn\u001b[0m \u001b[0mself\u001b[0m\u001b[0;34m.\u001b[0m\u001b[0m_return_or_raise\u001b[0m\u001b[0;34m(\u001b[0m\u001b[0;34m)\u001b[0m\u001b[0;34m\u001b[0m\u001b[0;34m\u001b[0m\u001b[0m\n\u001b[0m\u001b[1;32m    746\u001b[0m \u001b[0;34m\u001b[0m\u001b[0m\n\u001b[1;32m    747\u001b[0m         \u001b[0;31m# For other backends, the main thread needs to run the retrieval step.\u001b[0m\u001b[0;34m\u001b[0m\u001b[0;34m\u001b[0m\u001b[0m\n",
            "\u001b[0;32m/usr/local/lib/python3.10/dist-packages/joblib/parallel.py\u001b[0m in \u001b[0;36m_return_or_raise\u001b[0;34m(self)\u001b[0m\n\u001b[1;32m    761\u001b[0m         \u001b[0;32mtry\u001b[0m\u001b[0;34m:\u001b[0m\u001b[0;34m\u001b[0m\u001b[0;34m\u001b[0m\u001b[0m\n\u001b[1;32m    762\u001b[0m             \u001b[0;32mif\u001b[0m \u001b[0mself\u001b[0m\u001b[0;34m.\u001b[0m\u001b[0mstatus\u001b[0m \u001b[0;34m==\u001b[0m \u001b[0mTASK_ERROR\u001b[0m\u001b[0;34m:\u001b[0m\u001b[0;34m\u001b[0m\u001b[0;34m\u001b[0m\u001b[0m\n\u001b[0;32m--> 763\u001b[0;31m                 \u001b[0;32mraise\u001b[0m \u001b[0mself\u001b[0m\u001b[0;34m.\u001b[0m\u001b[0m_result\u001b[0m\u001b[0;34m\u001b[0m\u001b[0;34m\u001b[0m\u001b[0m\n\u001b[0m\u001b[1;32m    764\u001b[0m             \u001b[0;32mreturn\u001b[0m \u001b[0mself\u001b[0m\u001b[0;34m.\u001b[0m\u001b[0m_result\u001b[0m\u001b[0;34m\u001b[0m\u001b[0;34m\u001b[0m\u001b[0m\n\u001b[1;32m    765\u001b[0m         \u001b[0;32mfinally\u001b[0m\u001b[0;34m:\u001b[0m\u001b[0;34m\u001b[0m\u001b[0;34m\u001b[0m\u001b[0m\n",
            "\u001b[0;31mOSError\u001b[0m: [Errno 28] No space left on device"
          ]
        }
      ]
    },
    {
      "cell_type": "code",
      "source": [
        "# scan the data directory for SLC scenes and download missed orbits\n",
        "S1.download_orbits(DATADIR, S1.scan_slc(DATADIR))"
      ],
      "metadata": {
        "id": "g84KHOLh7d3q"
      },
      "execution_count": null,
      "outputs": []
    },
    {
      "cell_type": "code",
      "source": [
        "# download SRTM Global DEM 1 arc-second\n",
        "Tiles().download_dem_srtm(AOI, filename=DEM).plot.imshow()\n",
        "AOI.boundary.plot(ax=plt.gca(), color='red')"
      ],
      "metadata": {
        "id": "8X98Wyl-7eZ3"
      },
      "execution_count": null,
      "outputs": []
    },
    {
      "cell_type": "code",
      "source": [
        "# simple Dask initialization\n",
        "if 'client' in globals():\n",
        "    client.close()\n",
        "client = Client()\n",
        "client"
      ],
      "metadata": {
        "id": "rixI-oSF7iU_"
      },
      "execution_count": null,
      "outputs": []
    },
    {
      "cell_type": "code",
      "source": [
        "scenes = S1.scan_slc(DATADIR, subswath=SUBSWATH)\n",
        "sbas = Stack(WORKDIR, drop_if_exists=True).set_scenes(scenes).set_reference(REFERENCE)\n",
        "sbas.to_dataframe()"
      ],
      "metadata": {
        "id": "s9Z2NvCm7xDB"
      },
      "execution_count": null,
      "outputs": []
    },
    {
      "cell_type": "code",
      "source": [
        "sbas.plot_scenes(AOI=AOI)"
      ],
      "metadata": {
        "id": "JO5RFwqE752-"
      },
      "execution_count": null,
      "outputs": []
    },
    {
      "cell_type": "code",
      "source": [
        "sbas.compute_reframe(AOI)\n",
        "sbas.plot_scenes(AOI=AOI)"
      ],
      "metadata": {
        "id": "exGtCE3Q78G-"
      },
      "execution_count": null,
      "outputs": []
    },
    {
      "cell_type": "code",
      "source": [
        "# define the area of interest (AOI) to speedup the processing\n",
        "sbas.load_dem(DEM, AOI)\n",
        "sbas.plot_scenes(AOI=AOI)"
      ],
      "metadata": {
        "id": "-6MCYDke79jK"
      },
      "execution_count": null,
      "outputs": []
    },
    {
      "cell_type": "code",
      "source": [
        "sbas.compute_align()"
      ],
      "metadata": {
        "id": "tiI9kTBN8DPU"
      },
      "execution_count": null,
      "outputs": []
    },
    {
      "cell_type": "code",
      "source": [
        "# bursts-cropped GeoTIFF files moved into backup directory\n",
        "sbas.backup('backup')\n",
        "# free disk space removing the cropped Sentinel-1 GeoTIFFs\n",
        "# alternatively, drop the data directory and use the backup\n",
        "!rm -fr backup"
      ],
      "metadata": {
        "id": "joTD9WtA8FMR"
      },
      "execution_count": null,
      "outputs": []
    }
  ]
}